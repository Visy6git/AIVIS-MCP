{
 "cells": [
  {
   "cell_type": "markdown",
   "id": "8b4c5028",
   "metadata": {},
   "source": [
    "## GROQ SETUP"
   ]
  },
  {
   "cell_type": "code",
   "execution_count": 10,
   "id": "b8c831f2",
   "metadata": {},
   "outputs": [
    {
     "name": "stderr",
     "output_type": "stream",
     "text": [
      "2025-07-16 12:18:37.256 Thread 'MainThread': missing ScriptRunContext! This warning can be ignored when running in bare mode.\n",
      "2025-07-16 12:18:37.261 Thread 'MainThread': missing ScriptRunContext! This warning can be ignored when running in bare mode.\n",
      "2025-07-16 12:18:37.261 Thread 'MainThread': missing ScriptRunContext! This warning can be ignored when running in bare mode.\n",
      "2025-07-16 12:18:37.262 Thread 'MainThread': missing ScriptRunContext! This warning can be ignored when running in bare mode.\n",
      "2025-07-16 12:18:37.262 Thread 'MainThread': missing ScriptRunContext! This warning can be ignored when running in bare mode.\n",
      "2025-07-16 12:18:37.263 Thread 'MainThread': missing ScriptRunContext! This warning can be ignored when running in bare mode.\n",
      "2025-07-16 12:18:37.263 Thread 'MainThread': missing ScriptRunContext! This warning can be ignored when running in bare mode.\n",
      "2025-07-16 12:18:37.263 Thread 'MainThread': missing ScriptRunContext! This warning can be ignored when running in bare mode.\n",
      "2025-07-16 12:18:37.266 Thread 'MainThread': missing ScriptRunContext! This warning can be ignored when running in bare mode.\n",
      "2025-07-16 12:18:37.266 Thread 'MainThread': missing ScriptRunContext! This warning can be ignored when running in bare mode.\n",
      "2025-07-16 12:18:37.266 Thread 'MainThread': missing ScriptRunContext! This warning can be ignored when running in bare mode.\n",
      "2025-07-16 12:18:37.266 Thread 'MainThread': missing ScriptRunContext! This warning can be ignored when running in bare mode.\n",
      "2025-07-16 12:18:37.269 Thread 'MainThread': missing ScriptRunContext! This warning can be ignored when running in bare mode.\n"
     ]
    },
    {
     "name": "stdout",
     "output_type": "stream",
     "text": [
      "Fast language models are crucial in today's technology-driven world, and their importance can be seen in several aspects:\n",
      "\n",
      "1. **Efficient Processing**: Fast language models can process and analyze large amounts of text data quickly, enabling applications to respond rapidly to user queries, generate text, or translate languages in real-time. This efficiency is essential for applications that require instant feedback, such as chatbots, virtual assistants, and language translation software.\n",
      "2. **Improved User Experience**: Fast language models provide a seamless user experience by minimizing latency and response times. This is particularly important in applications where users expect immediate results, such as search engines, sentiment analysis, and text summarization.\n",
      "3. **Real-time Applications**: Fast language models enable real-time applications, such as:\n",
      "\t* Live language translation\n",
      "\t* Real-time sentiment analysis\n",
      "\t* Instant text summarization\n",
      "\t* Chatbots and virtual assistants\n",
      "\t* Live captioning and subtitling\n",
      "4. **Scalability**: Fast language models can handle large volumes of text data, making them scalable for applications with high traffic or large user bases. This scalability is essential for businesses and organizations that rely on language models for their operations.\n",
      "5. **Resource Efficiency**: Fast language models can operate on less powerful hardware, reducing the need for expensive and energy-consuming computing resources. This resource efficiency is critical for applications that require deployment on edge devices, such as smartphones, smart home devices, or autonomous vehicles.\n",
      "6. **Competitive Advantage**: Businesses that leverage fast language models can gain a competitive advantage by providing faster, more accurate, and more efficient language-related services. This can lead to improved customer satisfaction, increased revenue, and market share.\n",
      "7. **Research and Development**: Fast language models accelerate research and development in natural language processing (NLP) and machine learning (ML). They enable researchers to test and validate hypotheses quickly, leading to faster breakthroughs and innovations in the field.\n",
      "8. **Multilingual Support**: Fast language models can support multiple languages, enabling applications to cater to diverse user bases and expanding their reach globally.\n",
      "9. **Enhanced Security**: Fast language models can be used to detect and prevent online threats, such as phishing, spam, and malware, by analyzing text data in real-time.\n",
      "10. **Future-Proofing**: As language models continue to evolve, fast language models will be better equipped to handle future demands, such as:\n",
      "\t* Increased complexity of language tasks\n",
      "\t* Growing volumes of text data\n",
      "\t* Rising expectations for speed and accuracy\n",
      "\n",
      "In summary, fast language models are essential for providing efficient, scalable, and accurate language-related services, which are critical for various applications, businesses, and research initiatives. Their importance will continue to grow as the demand for NLP and ML capabilities increases.\n"
     ]
    }
   ],
   "source": [
    "import os\n",
    "\n",
    "from streamlit_groq import Groq\n",
    "from dotenv import load_dotenv\n",
    "\n",
    "load_dotenv()  # Load environment variables from .env file\n",
    "\n",
    "client = Groq(\n",
    "    api_key=os.environ.get(\"GROQ_API_KEY\"),\n",
    ")\n",
    "\n",
    "chat_completion = client.chat.completions.create(\n",
    "    messages=[\n",
    "        {\n",
    "            \"role\": \"user\",\n",
    "            \"content\": \"Explain the importance of fast language models\",\n",
    "        }\n",
    "    ],\n",
    "    model=\"llama-3.3-70b-versatile\",\n",
    ")\n",
    "\n",
    "print(chat_completion.choices[0].message.content)"
   ]
  },
  {
   "cell_type": "markdown",
   "id": "af5e5ab7",
   "metadata": {},
   "source": [
    "## OLLAMA SETUP"
   ]
  },
  {
   "cell_type": "markdown",
   "id": "6899288d",
   "metadata": {},
   "source": []
  }
 ],
 "metadata": {
  "kernelspec": {
   "display_name": "Python 3",
   "language": "python",
   "name": "python3"
  },
  "language_info": {
   "codemirror_mode": {
    "name": "ipython",
    "version": 3
   },
   "file_extension": ".py",
   "mimetype": "text/x-python",
   "name": "python",
   "nbconvert_exporter": "python",
   "pygments_lexer": "ipython3",
   "version": "3.11.7"
  }
 },
 "nbformat": 4,
 "nbformat_minor": 5
}
